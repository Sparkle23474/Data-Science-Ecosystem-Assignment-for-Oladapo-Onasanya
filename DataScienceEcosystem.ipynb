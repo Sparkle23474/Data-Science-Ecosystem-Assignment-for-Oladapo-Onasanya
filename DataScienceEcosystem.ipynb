{
 "cells": [
  {
   "cell_type": "markdown",
   "metadata": {},
   "source": [
    "<center>\n",
    "    <img src=\"https://cf-courses-data.s3.us.cloud-object-storage.appdomain.cloud/IBMDeveloperSkillsNetwork-DS0105EN-SkillsNetwork/labs/Module2/images/SN_web_lightmode.png\" width=\"300\" alt=\"cognitiveclass.ai logo\">\n",
    "</center>\n"
   ]
  },
  {
   "cell_type": "markdown",
   "metadata": {},
   "source": [
    "#### Add your code below following the instructions given in the course\n"
   ]
  },
  {
   "cell_type": "code",
   "execution_count": 29,
   "metadata": {
    "tags": []
   },
   "outputs": [
    {
     "data": {
      "text/plain": [
       "'# Data Science Tools and Ecosystem'"
      ]
     },
     "execution_count": 29,
     "metadata": {},
     "output_type": "execute_result"
    }
   ],
   "source": [
    "\"# Data Science Tools and Ecosystem\""
   ]
  },
  {
   "cell_type": "code",
   "execution_count": 39,
   "metadata": {
    "tags": []
   },
   "outputs": [
    {
     "data": {
      "text/plain": [
       "'In this notebook, Data Science Tools and Ecosystem are summarized'"
      ]
     },
     "execution_count": 39,
     "metadata": {},
     "output_type": "execute_result"
    }
   ],
   "source": [
    "\"In this notebook, Data Science Tools and Ecosystem are summarized\""
   ]
  },
  {
   "cell_type": "code",
   "execution_count": 42,
   "metadata": {
    "tags": []
   },
   "outputs": [
    {
     "data": {
      "text/markdown": [
       "\n",
       "**Objectives:**\n",
       "\n",
       "- List popular languages for Data Science.\n",
       "- Some of the commonly used libraries used by Data Scientists\n",
       "- Introduce and evaluate arithmetic expressions in Python.\n",
       "- Convert minutes to hours using Python.\n",
       "- Explore data science tools in a table format.\n",
       "- Provide an overview of the Data Science Tools and Ecosystem.\n"
      ],
      "text/plain": [
       "<IPython.core.display.Markdown object>"
      ]
     },
     "metadata": {},
     "output_type": "display_data"
    }
   ],
   "source": [
    "from IPython.display import Markdown\n",
    "\n",
    "# Define the Markdown content\n",
    "markdown_content = \"\"\"\n",
    "**Objectives:**\n",
    "\n",
    "- List popular languages for Data Science.\n",
    "- Some of the commonly used libraries used by Data Scientists\n",
    "- Introduce and evaluate arithmetic expressions in Python.\n",
    "- Convert minutes to hours using Python.\n",
    "- Explore data science tools in a table format.\n",
    "- Provide an overview of the Data Science Tools and Ecosystem.\n",
    "\"\"\"\n",
    "\n",
    "# Display the Markdown content\n",
    "display(Markdown(markdown_content))\n"
   ]
  },
  {
   "cell_type": "code",
   "execution_count": 32,
   "metadata": {
    "tags": []
   },
   "outputs": [
    {
     "data": {
      "text/plain": [
       "'Some of the popular languages that Data Scientists use are:'"
      ]
     },
     "execution_count": 32,
     "metadata": {},
     "output_type": "execute_result"
    }
   ],
   "source": [
    "\"Some of the popular languages that Data Scientists use are:\""
   ]
  },
  {
   "cell_type": "code",
   "execution_count": 40,
   "metadata": {
    "tags": []
   },
   "outputs": [
    {
     "data": {
      "text/markdown": [
       "\n",
       "Some of the commonly used libraries used by Data Scientists include:\n",
       "\n",
       "1. Pandas\n",
       "2. NumPy\n",
       "3. Matplotlib\n",
       "4. Seaborn\n",
       "5. Scikit-Learn\n"
      ],
      "text/plain": [
       "<IPython.core.display.Markdown object>"
      ]
     },
     "metadata": {},
     "output_type": "display_data"
    }
   ],
   "source": [
    "from IPython.display import Markdown\n",
    "\n",
    "# Define the Markdown content\n",
    "libraries_markdown = \"\"\"\n",
    "Some of the commonly used libraries used by Data Scientists include:\n",
    "\n",
    "1. Pandas\n",
    "2. NumPy\n",
    "3. Matplotlib\n",
    "4. Seaborn\n",
    "5. Scikit-Learn\n",
    "\"\"\"\n",
    "\n",
    "# Display the Markdown content\n",
    "display(Markdown(libraries_markdown))\n"
   ]
  },
  {
   "cell_type": "code",
   "execution_count": 33,
   "metadata": {
    "tags": []
   },
   "outputs": [
    {
     "name": "stdout",
     "output_type": "stream",
     "text": [
      "1. Python\n",
      "2. R\n",
      "3. SQL\n"
     ]
    }
   ],
   "source": [
    "# List of popular data science languages\n",
    "data_science_languages = [\"Python\", \"R\", \"SQL\"]\n",
    "\n",
    "# Print the list\n",
    "for index, language in enumerate(data_science_languages, start=1):\n",
    "    print(f\"{index}. {language}\")"
   ]
  },
  {
   "cell_type": "code",
   "execution_count": 34,
   "metadata": {
    "tags": []
   },
   "outputs": [
    {
     "name": "stdout",
     "output_type": "stream",
     "text": [
      "\n",
      "| Data Science Tools     |\n",
      "|------------------------|\n",
      "| Jupyter Notebook       |\n",
      "| RStudio                |\n",
      "| Visual Studio Code     |\n",
      "\n"
     ]
    }
   ],
   "source": [
    "# Define the table content\n",
    "table_content = \"\"\"\n",
    "| Data Science Tools     |\n",
    "|------------------------|\n",
    "| Jupyter Notebook       |\n",
    "| RStudio                |\n",
    "| Visual Studio Code     |\n",
    "\"\"\"\n",
    "\n",
    "# Display the Markdown content\n",
    "print(table_content)\n"
   ]
  },
  {
   "cell_type": "code",
   "execution_count": 35,
   "metadata": {
    "tags": []
   },
   "outputs": [
    {
     "name": "stdout",
     "output_type": "stream",
     "text": [
      "\n",
      "### Examples of Evaluating Arithmetic Expressions\n",
      "\n",
      "Below are a few examples of evaluating arithmetic expressions in Python.\n",
      "\n"
     ]
    }
   ],
   "source": [
    "markdown_content = \"\"\"\n",
    "### Examples of Evaluating Arithmetic Expressions\n",
    "\n",
    "Below are a few examples of evaluating arithmetic expressions in Python.\n",
    "\"\"\"\n",
    "\n",
    "# Print the Markdown content\n",
    "print(markdown_content)\n"
   ]
  },
  {
   "cell_type": "code",
   "execution_count": 36,
   "metadata": {
    "tags": []
   },
   "outputs": [
    {
     "name": "stdout",
     "output_type": "stream",
     "text": [
      "17\n"
     ]
    }
   ],
   "source": [
    "# This is a simple arithmetic expression to multiply and then add integers.\n",
    "result = (3 * 4) + 5\n",
    "\n",
    "# Print the result\n",
    "print(result)\n"
   ]
  },
  {
   "cell_type": "code",
   "execution_count": 37,
   "metadata": {
    "tags": []
   },
   "outputs": [
    {
     "name": "stdout",
     "output_type": "stream",
     "text": [
      "3.3333333333333335\n"
     ]
    }
   ],
   "source": [
    "# This will convert 200 minutes to hours by dividing by 60.\n",
    "minutes = 200\n",
    "hours = minutes / 60\n",
    "\n",
    "# Print the result\n",
    "print(hours)\n"
   ]
  },
  {
   "cell_type": "code",
   "execution_count": 38,
   "metadata": {
    "tags": []
   },
   "outputs": [
    {
     "data": {
      "text/markdown": [
       "\n",
       "## Author\n",
       "Oladapo Onasanya\n"
      ],
      "text/plain": [
       "<IPython.core.display.Markdown object>"
      ]
     },
     "metadata": {},
     "output_type": "display_data"
    }
   ],
   "source": [
    "from IPython.display import Markdown\n",
    "\n",
    "# Define the Markdown content\n",
    "author_markdown = \"\"\"\n",
    "## Author\n",
    "Oladapo Onasanya\n",
    "\"\"\"\n",
    "\n",
    "# Display the Markdown content\n",
    "display(Markdown(author_markdown))\n"
   ]
  },
  {
   "cell_type": "code",
   "execution_count": null,
   "metadata": {},
   "outputs": [],
   "source": []
  },
  {
   "cell_type": "code",
   "execution_count": null,
   "metadata": {},
   "outputs": [],
   "source": []
  }
 ],
 "metadata": {
  "kernelspec": {
   "display_name": "Python",
   "language": "python",
   "name": "conda-env-python-py"
  },
  "language_info": {
   "codemirror_mode": {
    "name": "ipython",
    "version": 3
   },
   "file_extension": ".py",
   "mimetype": "text/x-python",
   "name": "python",
   "nbconvert_exporter": "python",
   "pygments_lexer": "ipython3",
   "version": "3.7.12"
  }
 },
 "nbformat": 4,
 "nbformat_minor": 4
}
